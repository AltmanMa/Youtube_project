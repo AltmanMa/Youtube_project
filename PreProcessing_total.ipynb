{
 "cells": [
  {
   "cell_type": "code",
   "execution_count": 5,
   "metadata": {},
   "outputs": [],
   "source": [
    "import pandas as pd\n",
    "import numpy as np\n",
    "from matplotlib import pyplot as plt\n",
    "from sklearn.linear_model import LinearRegression\n",
    "from sklearn.metrics import mean_squared_error, r2_score\n",
    "\n",
    "df = pd.read_csv('Youtube_videos_US_original.csv')\n",
    "\n",
    "category_ids = df['category_id'].unique()\n",
    "\n",
    "df_cleaned = pd.DataFrame()"
   ]
  },
  {
   "cell_type": "code",
   "execution_count": 6,
   "metadata": {},
   "outputs": [
    {
     "name": "stdout",
     "output_type": "stream",
     "text": [
      "Category 22 - MSE: 2780084908615.23, R2 Score: 0.81\n",
      "Category 22 - Cleaned MSE: 2791955034708.68, Cleaned R2 Score: 0.81\n",
      "Category 24 - MSE: 8993723439417.94, R2 Score: 0.74\n",
      "Category 24 - Cleaned MSE: 8983759982902.43, Cleaned R2 Score: 0.74\n",
      "Category 23 - MSE: 1948005875765.37, R2 Score: 0.51\n",
      "Category 23 - Cleaned MSE: 1947353186659.37, Cleaned R2 Score: 0.51\n",
      "Category 28 - MSE: 12764605630482.05, R2 Score: 0.69\n",
      "Category 28 - Cleaned MSE: 12759036430454.28, Cleaned R2 Score: 0.69\n",
      "Category 1 - MSE: 18220661463127.03, R2 Score: 0.74\n",
      "Category 1 - Cleaned MSE: 18155196716053.67, Cleaned R2 Score: 0.75\n",
      "Category 25 - MSE: 3602114200387.24, R2 Score: 0.00\n",
      "Category 17 - MSE: 5736174862908.23, R2 Score: 0.75\n",
      "Category 17 - Cleaned MSE: 5704635012742.78, Cleaned R2 Score: 0.75\n",
      "Category 10 - MSE: 160509780532214.59, R2 Score: 0.75\n",
      "Category 10 - Cleaned MSE: 158699927485538.75, Cleaned R2 Score: 0.75\n",
      "Category 15 - MSE: 1989007673160.81, R2 Score: 0.14\n",
      "Category 27 - MSE: 407133283264.37, R2 Score: 0.78\n",
      "Category 27 - Cleaned MSE: 408990340181.99, Cleaned R2 Score: 0.78\n",
      "Category 26 - MSE: 3510754669665.81, R2 Score: 0.24\n",
      "Category 2 - MSE: 1021179926377.47, R2 Score: -3.05\n",
      "Category 19 - MSE: 100488339148.26, R2 Score: 0.07\n",
      "Category 20 - MSE: 3399973369298.47, R2 Score: 0.72\n",
      "Category 20 - Cleaned MSE: 3272674418016.00, Cleaned R2 Score: 0.73\n",
      "Category 29 - MSE: 27823037369.95, R2 Score: -1.43\n",
      "Category 43 - MSE: 111379561201.50, R2 Score: -89.47\n"
     ]
    }
   ],
   "source": [
    "for category_id in category_ids:\n",
    "    df_category = df[df['category_id'] == category_id]\n",
    "\n",
    "    index = int(len(df_category) * 0.8)\n",
    "    df_train = df_category[:index]\n",
    "    df_test = df_category[index:]\n",
    "\n",
    "    X_train = df_train[[\"likes\"]].to_numpy()\n",
    "    Y_train = df_train[\"views\"].to_numpy()\n",
    "    X_test = df_test[[\"likes\"]].to_numpy()\n",
    "    Y_test = df_test[\"views\"].to_numpy()\n",
    "\n",
    "    model = LinearRegression()\n",
    "    model.fit(X_train, Y_train)\n",
    "    Y_pred = model.predict(X_test)\n",
    "\n",
    "    mse = mean_squared_error(Y_test, Y_pred)\n",
    "    r2 = r2_score(Y_test, Y_pred)\n",
    "    print(f\"Category {category_id} - MSE: {mse:.2f}, R2 Score: {r2:.2f}\")\n",
    "\n",
    "    if r2 >= 0.5:\n",
    "        Y_train_pred = model.predict(X_train)\n",
    "\n",
    "        residuals = Y_train - Y_train_pred\n",
    "        studentized_residuals = residuals / np.sqrt(mean_squared_error(Y_train, Y_train_pred))\n",
    "        outliers = np.abs(studentized_residuals) > 2\n",
    "\n",
    "        cook_distance = (residuals ** 2) / (model.coef_ ** 2 * X_train.var())\n",
    "        outliers_cooks = cook_distance > 4 / len(X_train)\n",
    "\n",
    "        outliers_indices = np.where(outliers)[0]\n",
    "        outliers_indices_Cook = np.where(outliers_cooks)[0]\n",
    "\n",
    "        all_outliers_indices = np.union1d(outliers_indices, outliers_indices_Cook)\n",
    "\n",
    "        df_category_cleaned = df_category.drop(df_category.index[all_outliers_indices])\n",
    "\n",
    "        cleaned_X = np.delete(X_train, all_outliers_indices, axis=0)\n",
    "        cleaned_y = np.delete(Y_train, all_outliers_indices, axis=0)\n",
    "\n",
    "        model.fit(cleaned_X, cleaned_y)\n",
    "        Y_pred_cleaned = model.predict(X_test)\n",
    "\n",
    "        mse_cleaned = mean_squared_error(Y_test, Y_pred_cleaned)\n",
    "        r2_cleaned = r2_score(Y_test, Y_pred_cleaned)\n",
    "        print(f\"Category {category_id} - Cleaned MSE: {mse_cleaned:.2f}, Cleaned R2 Score: {r2_cleaned:.2f}\")\n",
    "\n",
    "        df_cleaned = pd.concat([df_cleaned, df_category_cleaned], ignore_index=True)\n",
    "    else:\n",
    "        df_cleaned = pd.concat([df_cleaned, df_category], ignore_index=True)"
   ]
  },
  {
   "cell_type": "code",
   "execution_count": 7,
   "metadata": {},
   "outputs": [],
   "source": [
    "df_cleaned.to_csv('USvideos_cleaned_all.csv', index=False)"
   ]
  }
 ],
 "metadata": {
  "kernelspec": {
   "display_name": "tensorflow_env",
   "language": "python",
   "name": "python3"
  },
  "language_info": {
   "codemirror_mode": {
    "name": "ipython",
    "version": 3
   },
   "file_extension": ".py",
   "mimetype": "text/x-python",
   "name": "python",
   "nbconvert_exporter": "python",
   "pygments_lexer": "ipython3",
   "version": "3.10.13"
  }
 },
 "nbformat": 4,
 "nbformat_minor": 2
}
